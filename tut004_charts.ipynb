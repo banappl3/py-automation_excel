{
 "cells": [
  {
   "cell_type": "markdown",
   "metadata": {},
   "source": [
    "## packages"
   ]
  },
  {
   "cell_type": "code",
   "execution_count": 170,
   "metadata": {},
   "outputs": [],
   "source": [
    "import xlsxwriter"
   ]
  },
  {
   "cell_type": "code",
   "execution_count": 171,
   "metadata": {},
   "outputs": [],
   "source": [
    "# Create a workbook and add a worksheet.\n",
    "workbook = xlsxwriter.Workbook('output/tut004_simplechart.xlsx')\n",
    "\n",
    "# add a worksheet\n",
    "worksheet = workbook.add_worksheet(\"data\")\n",
    "\n",
    "# add a chart\n",
    "chart = workbook.add_chart({'type': 'column'})\n"
   ]
  },
  {
   "cell_type": "markdown",
   "metadata": {},
   "source": [
    "## getting data"
   ]
  },
  {
   "cell_type": "code",
   "execution_count": 172,
   "metadata": {},
   "outputs": [],
   "source": [
    "data = [\n",
    "    [1, 2, 3, 4, 5],\n",
    "    [2, 4, 6, 8, 10],\n",
    "    [3, 6, 9, 12, 15],\n",
    "]"
   ]
  },
  {
   "cell_type": "code",
   "execution_count": 173,
   "metadata": {},
   "outputs": [
    {
     "data": {
      "text/plain": [
       "0"
      ]
     },
     "execution_count": 173,
     "metadata": {},
     "output_type": "execute_result"
    }
   ],
   "source": [
    "# write data to sheet\n",
    "worksheet.write_column('A1', data[0])\n",
    "worksheet.write_column('B1', data[1])\n",
    "worksheet.write_column('C1', data[2])"
   ]
  },
  {
   "cell_type": "code",
   "execution_count": 174,
   "metadata": {},
   "outputs": [],
   "source": [
    "# Configure the charts. In simplest case we just add some data series.\n",
    "chart.add_series({'values': '=data!$A$1:$A$5'})\n",
    "chart.add_series({'values': '=data!$B$1:$B$5'})\n",
    "chart.add_series({'values': '=data!$C$1:$C$5'})\n",
    "\n",
    "#\n",
    "chart.set_x_axis({\n",
    "    'name': 'Earnings per Quarter',\n",
    "    'name_font': {'size': 14, 'bold': True},\n",
    "    'num_font':  {'italic': True },\n",
    "\n",
    "    'major_gridlines': {\n",
    "        'visible': True,\n",
    "        'line': {'width': 1.25, 'dash_type': 'dash'}\n",
    "    },\n",
    "\n",
    "    'display_units': 'thousands',\n",
    "\n",
    "})\n",
    "\n",
    "chart.set_title({\n",
    "    'name': 'Year End Results',\n",
    "    'overlay': True,\n",
    "    #'layout': {\n",
    "    #    'x': 0.0,\n",
    "    #    'y': 0.0,}\n",
    "\n",
    "})\n",
    "\n",
    "chart.set_legend({\n",
    "    #'none': True,\n",
    "    'position':'bottom',\n",
    "    'font': {'size': 9, 'bold': True},\n",
    "})\n",
    "\n",
    "chart.set_chartarea({\n",
    "    'border': {'none': True},\n",
    "    'fill':   {'color': '#FF9900'}\n",
    "})\n",
    "\n",
    "\n"
   ]
  },
  {
   "cell_type": "code",
   "execution_count": 175,
   "metadata": {},
   "outputs": [
    {
     "data": {
      "text/plain": [
       "0"
      ]
     },
     "execution_count": 175,
     "metadata": {},
     "output_type": "execute_result"
    }
   ],
   "source": [
    "worksheet.insert_chart('A7',chart)"
   ]
  },
  {
   "cell_type": "code",
   "execution_count": 176,
   "metadata": {},
   "outputs": [],
   "source": [
    "workbook.close()"
   ]
  }
 ],
 "metadata": {
  "interpreter": {
   "hash": "aee8b7b246df8f9039afb4144a1f6fd8d2ca17a180786b69acc140d282b71a49"
  },
  "kernelspec": {
   "display_name": "Python 3.9.5 64-bit",
   "language": "python",
   "name": "python3"
  },
  "language_info": {
   "codemirror_mode": {
    "name": "ipython",
    "version": 3
   },
   "file_extension": ".py",
   "mimetype": "text/x-python",
   "name": "python",
   "nbconvert_exporter": "python",
   "pygments_lexer": "ipython3",
   "version": "3.9.5"
  },
  "orig_nbformat": 4
 },
 "nbformat": 4,
 "nbformat_minor": 2
}
