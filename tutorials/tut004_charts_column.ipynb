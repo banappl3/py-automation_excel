{
 "cells": [
  {
   "cell_type": "markdown",
   "metadata": {},
   "source": [
    "## packages"
   ]
  },
  {
   "cell_type": "code",
   "execution_count": 6,
   "metadata": {},
   "outputs": [],
   "source": [
    "import xlsxwriter"
   ]
  },
  {
   "cell_type": "code",
   "execution_count": 7,
   "metadata": {},
   "outputs": [
    {
     "data": {
      "text/plain": [
       "0"
      ]
     },
     "execution_count": 7,
     "metadata": {},
     "output_type": "execute_result"
    }
   ],
   "source": [
    "# Create a workbook and add a worksheet.\n",
    "workbook = xlsxwriter.Workbook('output/tut004_column.xlsx')\n",
    "\n",
    "worksheet = workbook.add_worksheet('Sheet1')\n",
    "\n",
    "bold = workbook.add_format({'bold': 1})\n",
    "\n",
    "# Add the worksheet data that the charts will refer to.\n",
    "headings = ['Number', 'Batch 1', 'Batch 2']\n",
    "data = [\n",
    "    [2, 3, 4, 5, 6, 7],\n",
    "    [10, 40, 50, 20, 10, 50],\n",
    "    [30, 60, 70, 50, 40, 30],\n",
    "]\n",
    "\n",
    "worksheet.write_row('A1', headings, bold)\n",
    "worksheet.write_column('A2', data[0])\n",
    "worksheet.write_column('B2', data[1])\n",
    "worksheet.write_column('C2', data[2])"
   ]
  },
  {
   "cell_type": "code",
   "execution_count": 8,
   "metadata": {},
   "outputs": [
    {
     "data": {
      "text/plain": [
       "0"
      ]
     },
     "execution_count": 8,
     "metadata": {},
     "output_type": "execute_result"
    }
   ],
   "source": [
    "chart1 = workbook.add_chart({'type': 'column'})\n",
    "\n",
    "# Configure the first series.\n",
    "chart1.add_series({\n",
    "    'name':       '=Sheet1!$B$1',\n",
    "    'categories': '=Sheet1!$A$2:$A$7',\n",
    "    'values':     '=Sheet1!$B$2:$B$7',\n",
    "})\n",
    "\n",
    "# Configure a second series. Note use of alternative syntax to define ranges.\n",
    "chart1.add_series({\n",
    "    'name':       ['Sheet1', 0, 2],\n",
    "    'categories': ['Sheet1', 1, 0, 6, 0],\n",
    "    'values':     ['Sheet1', 1, 2, 6, 2],\n",
    "})\n",
    "\n",
    "# Add a chart title and some axis labels.\n",
    "chart1.set_title ({'name': 'Results of sample analysis'})\n",
    "chart1.set_x_axis({'name': 'Test number'})\n",
    "chart1.set_y_axis({'name': 'Sample length (mm)'})\n",
    "\n",
    "# Set an Excel chart style.\n",
    "chart1.set_style(11)\n",
    "\n",
    "# Insert the chart into the worksheet (with an offset).\n",
    "worksheet.insert_chart('D2', chart1, {'x_offset': 25, 'y_offset': 10})"
   ]
  },
  {
   "cell_type": "code",
   "execution_count": 9,
   "metadata": {},
   "outputs": [
    {
     "data": {
      "text/plain": [
       "0"
      ]
     },
     "execution_count": 9,
     "metadata": {},
     "output_type": "execute_result"
    }
   ],
   "source": [
    "chart2 = workbook.add_chart({'type': 'column', 'subtype': 'stacked'})\n",
    "\n",
    "# Configure the first series.\n",
    "chart2.add_series({\n",
    "    'name':       '=Sheet1!$B$1',\n",
    "    'categories': '=Sheet1!$A$2:$A$7',\n",
    "    'values':     '=Sheet1!$B$2:$B$7',\n",
    "})\n",
    "\n",
    "# Configure second series.\n",
    "chart2.add_series({\n",
    "    'name':       '=Sheet1!$C$1',\n",
    "    'categories': '=Sheet1!$A$2:$A$7',\n",
    "    'values':     '=Sheet1!$C$2:$C$7',\n",
    "})\n",
    "\n",
    "# Add a chart title and some axis labels.\n",
    "chart2.set_title ({'name': 'Stacked Chart'})\n",
    "chart2.set_x_axis({'name': 'Test number'})\n",
    "chart2.set_y_axis({'name': 'Sample length (mm)'})\n",
    "\n",
    "# Set an Excel chart style.\n",
    "chart2.set_style(12)\n",
    "\n",
    "# Insert the chart into the worksheet (with an offset).\n",
    "worksheet.insert_chart('D18', chart2, {'x_offset': 25, 'y_offset': 10})"
   ]
  },
  {
   "cell_type": "code",
   "execution_count": 10,
   "metadata": {},
   "outputs": [],
   "source": [
    "chart3 = workbook.add_chart({'type': 'column', 'subtype': 'percent_stacked'})\n",
    "\n",
    "# Configure the first series.\n",
    "chart3.add_series({\n",
    "    'name':       '=Sheet1!$B$1',\n",
    "    'categories': '=Sheet1!$A$2:$A$7',\n",
    "    'values':     '=Sheet1!$B$2:$B$7',\n",
    "})\n",
    "\n",
    "# Configure second series.\n",
    "chart3.add_series({\n",
    "    'name':       '=Sheet1!$C$1',\n",
    "    'categories': '=Sheet1!$A$2:$A$7',\n",
    "    'values':     '=Sheet1!$C$2:$C$7',\n",
    "})\n",
    "\n",
    "# Add a chart title and some axis labels.\n",
    "chart3.set_title ({'name': 'Percent Stacked Chart'})\n",
    "chart3.set_x_axis({'name': 'Test number'})\n",
    "chart3.set_y_axis({'name': 'Sample length (mm)'})\n",
    "\n",
    "# Set an Excel chart style.\n",
    "chart3.set_style(13)\n",
    "\n",
    "# Insert the chart into the worksheet (with an offset).\n",
    "worksheet.insert_chart('D34', chart3, {'x_offset': 25, 'y_offset': 10})\n",
    "\n",
    "workbook.close()"
   ]
  }
 ],
 "metadata": {
  "interpreter": {
   "hash": "aee8b7b246df8f9039afb4144a1f6fd8d2ca17a180786b69acc140d282b71a49"
  },
  "kernelspec": {
   "display_name": "Python 3.9.5 64-bit",
   "language": "python",
   "name": "python3"
  },
  "language_info": {
   "codemirror_mode": {
    "name": "ipython",
    "version": 3
   },
   "file_extension": ".py",
   "mimetype": "text/x-python",
   "name": "python",
   "nbconvert_exporter": "python",
   "pygments_lexer": "ipython3",
   "version": "3.9.5"
  },
  "orig_nbformat": 4
 },
 "nbformat": 4,
 "nbformat_minor": 2
}
