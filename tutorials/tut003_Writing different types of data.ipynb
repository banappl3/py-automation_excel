{
 "cells": [
  {
   "cell_type": "markdown",
   "metadata": {},
   "source": [
    "## packages"
   ]
  },
  {
   "cell_type": "code",
   "execution_count": 8,
   "metadata": {},
   "outputs": [],
   "source": [
    "import xlsxwriter\n",
    "\n",
    "from datetime import datetime"
   ]
  },
  {
   "cell_type": "code",
   "execution_count": 9,
   "metadata": {},
   "outputs": [],
   "source": [
    "# Create a workbook and add a worksheet.\n",
    "workbook = xlsxwriter.Workbook('output/Expenses03.xlsx')\n",
    "worksheet = workbook.add_worksheet(\"data\")"
   ]
  },
  {
   "cell_type": "markdown",
   "metadata": {},
   "source": [
    "## formating"
   ]
  },
  {
   "cell_type": "code",
   "execution_count": 10,
   "metadata": {},
   "outputs": [
    {
     "data": {
      "text/plain": [
       "0"
      ]
     },
     "execution_count": 10,
     "metadata": {},
     "output_type": "execute_result"
    }
   ],
   "source": [
    " # Add a bold format to use to highlight cells.\n",
    "bold = workbook.add_format({'bold': 1})\n",
    "\n",
    " # Add a number format for cells with money.\n",
    "money_format = workbook.add_format({'num_format': '#,##0 €'})\n",
    "\n",
    "# Add an Excel date format.\n",
    "date_format = workbook.add_format({'num_format': 'mmmm d yyyy'})\n",
    "\n",
    " # Adjust the column width.\n",
    "worksheet.set_column(1, 1, 15)\n",
    "\n",
    "\n",
    " # Write some data headers.\n",
    "worksheet.write('A1', 'Item', bold)\n",
    "worksheet.write('B1', 'Date', bold)\n",
    "worksheet.write('C1', 'Cost', bold)\n",
    "\n"
   ]
  },
  {
   "cell_type": "markdown",
   "metadata": {},
   "source": [
    "## data"
   ]
  },
  {
   "cell_type": "code",
   "execution_count": 11,
   "metadata": {},
   "outputs": [],
   "source": [
    "expenses = (\n",
    "    ['Rent', '2013-01-13', 1000],\n",
    "    ['Gas',  '2013-01-14',  100],\n",
    "    ['Food', '2013-01-16',  300],\n",
    "    ['Gym',  '2013-01-20',   50],\n",
    ")"
   ]
  },
  {
   "cell_type": "code",
   "execution_count": 12,
   "metadata": {},
   "outputs": [],
   "source": [
    "# Start from the first cell. Rows and columns are zero indexed.\n",
    "row = 1\n",
    "col = 0"
   ]
  },
  {
   "cell_type": "code",
   "execution_count": 13,
   "metadata": {},
   "outputs": [],
   "source": [
    "# Iterate over the data and write it out row by row.\n",
    "for item, date_str, cost in (expenses):\n",
    "    \n",
    "    date = datetime.strptime(date_str, \"%Y-%m-%d\")\n",
    "\n",
    "    worksheet.write(row, col,     item)\n",
    "    worksheet.write(row, col+1, cost, date_format)\n",
    "    worksheet.write(row, col+2, cost, money_format)\n",
    "    row += 1"
   ]
  },
  {
   "cell_type": "code",
   "execution_count": 14,
   "metadata": {},
   "outputs": [],
   "source": [
    "# Write a total using a formula.\n",
    "worksheet.write(row,0, 'Total', bold)\n",
    "worksheet.write(row,2,'=SUM(C2:C5)', money_format)\n",
    "\n",
    "workbook.close()"
   ]
  }
 ],
 "metadata": {
  "interpreter": {
   "hash": "aee8b7b246df8f9039afb4144a1f6fd8d2ca17a180786b69acc140d282b71a49"
  },
  "kernelspec": {
   "display_name": "Python 3.9.5 64-bit",
   "language": "python",
   "name": "python3"
  },
  "language_info": {
   "codemirror_mode": {
    "name": "ipython",
    "version": 3
   },
   "file_extension": ".py",
   "mimetype": "text/x-python",
   "name": "python",
   "nbconvert_exporter": "python",
   "pygments_lexer": "ipython3",
   "version": "3.9.5"
  },
  "orig_nbformat": 4
 },
 "nbformat": 4,
 "nbformat_minor": 2
}
