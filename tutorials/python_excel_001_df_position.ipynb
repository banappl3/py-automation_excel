{
 "cells": [
  {
   "cell_type": "code",
   "execution_count": 11,
   "metadata": {},
   "outputs": [],
   "source": [
    "import pandas as pd\n",
    "\n",
    "df1 = pd.DataFrame({'Data': [11, 12, 13, 14]})\n",
    "df2 = pd.DataFrame({'Data': [21, 22, 23, 24]})\n",
    "df3 = pd.DataFrame({'Data': [31, 32, 33, 34]})\n",
    "df4 = pd.DataFrame({'Data': [41, 42, 43, 44]})\n",
    "\n",
    "writer = pd.ExcelWriter('output/pandas_df_positioning.xlsx', engine='xlsxwriter')\n",
    "\n",
    "df1.to_excel(writer, sheet_name='Data')\n",
    "df2.to_excel(writer, sheet_name='Data', startcol=3)\n",
    "df3.to_excel(writer, sheet_name='Data', startrow=6)\n",
    "df4.to_excel(writer, sheet_name='Data',\n",
    "             startrow=7, startcol=4, header=False, index=False)\n",
    "\n",
    "df1.to_excel(writer, sheet_name='Data1')\n",
    "df2.to_excel(writer, sheet_name='Data1', startcol=2, index=False)\n",
    "df3.to_excel(writer, sheet_name='Data1', startcol=3, index=False)\n",
    "df4.to_excel(writer, sheet_name='Data1', startcol=4, index=False)\n",
    "\n",
    "\n",
    "writer.save()"
   ]
  }
 ],
 "metadata": {
  "interpreter": {
   "hash": "aee8b7b246df8f9039afb4144a1f6fd8d2ca17a180786b69acc140d282b71a49"
  },
  "kernelspec": {
   "display_name": "Python 3.9.5 64-bit",
   "language": "python",
   "name": "python3"
  },
  "language_info": {
   "codemirror_mode": {
    "name": "ipython",
    "version": 3
   },
   "file_extension": ".py",
   "mimetype": "text/x-python",
   "name": "python",
   "nbconvert_exporter": "python",
   "pygments_lexer": "ipython3",
   "version": "3.9.5"
  },
  "orig_nbformat": 4
 },
 "nbformat": 4,
 "nbformat_minor": 2
}
